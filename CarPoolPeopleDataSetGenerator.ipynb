{
  "nbformat": 4,
  "nbformat_minor": 0,
  "metadata": {
    "colab": {
      "name": "CarPoolPeopleDataSetGenerator.ipynb",
      "version": "0.3.2",
      "provenance": [],
      "include_colab_link": true
    },
    "kernelspec": {
      "name": "python3",
      "display_name": "Python 3"
    },
    "accelerator": "GPU"
  },
  "cells": [
    {
      "cell_type": "markdown",
      "metadata": {
        "id": "view-in-github",
        "colab_type": "text"
      },
      "source": [
        "<a href=\"https://colab.research.google.com/github/NiveditJain/dataProcessingUsingSQLlite/blob/master/CarPoolPeopleDataSetGenerator.ipynb\" target=\"_parent\"><img src=\"https://colab.research.google.com/assets/colab-badge.svg\" alt=\"Open In Colab\"/></a>"
      ]
    },
    {
      "cell_type": "code",
      "metadata": {
        "id": "td7AHzgL7AbS",
        "colab_type": "code",
        "colab": {}
      },
      "source": [
        "# importing all the required header file\n",
        "import pandas as pd \n",
        "import sqlite3\n",
        "import os\n",
        "import gc\n",
        "import csv\n",
        "from google.colab import drive"
      ],
      "execution_count": 0,
      "outputs": []
    },
    {
      "cell_type": "code",
      "metadata": {
        "id": "vCNQFAxo7ejE",
        "colab_type": "code",
        "colab": {
          "base_uri": "https://localhost:8080/",
          "height": 34
        },
        "outputId": "d3ed8b75-4d98-454b-e039-89fb31f3a684"
      },
      "source": [
        "# connecting data file from google\n",
        "drive.mount('/content/gdrive')\n",
        "# location of data\n",
        "path='/content/gdrive/My Drive/intern_iitropar/Twitter-dataset/data/edges.csv'"
      ],
      "execution_count": 9,
      "outputs": [
        {
          "output_type": "stream",
          "text": [
            "Drive already mounted at /content/gdrive; to attempt to forcibly remount, call drive.mount(\"/content/gdrive\", force_remount=True).\n"
          ],
          "name": "stdout"
        }
      ]
    },
    {
      "cell_type": "code",
      "metadata": {
        "id": "gJWhs5dgSgDf",
        "colab_type": "code",
        "colab": {}
      },
      "source": [
        "outputPath='/content/gdrive/My Drive/intern_iitropar/Processed Data of Twitter/'\n",
        "inputPath='/content/gdrive/My Drive/intern_iitropar/Twitter-dataset/data/'"
      ],
      "execution_count": 0,
      "outputs": []
    },
    {
      "cell_type": "code",
      "metadata": {
        "id": "5bDOH_n28TVr",
        "colab_type": "code",
        "colab": {}
      },
      "source": [
        "# coverting the required part of data to csv file and reallocating memory\n",
        "def trimCSV(starting,Termination,name):\n",
        "  if(os.path.exists('/content/gdrive/My Drive/intern_iitropar/Processed Data of Twitter/'+name+'.csv')==1):\n",
        "                    os.remove('/content/gdrive/My Drive/intern_iitropar/Processed Data of Twitter/'+name+'.csv')\n",
        "  df=pd.read_csv('/content/gdrive/My Drive/intern_iitropar/Twitter-dataset/data/edges.csv',names=['person','following'])\n",
        "  if(not(starting==1)):\n",
        "    df.drop(df[df.person < starting].index, inplace= True)\n",
        "    df.drop(df[df.following < starting].index, inplace= True)\n",
        "  df.drop(df[df.person > Termination].index, inplace=True)\n",
        "  df.drop(df[df.following > Termination].index, inplace=True)\n",
        "  df.set_index(['person','following'], inplace=True)\n",
        "  df.to_csv('/content/gdrive/My Drive/intern_iitropar/Processed Data of Twitter/'+name+'.csv')\n",
        "  del df\n",
        "  gc.collect()\n",
        "  df=pd.DataFrame()"
      ],
      "execution_count": 0,
      "outputs": []
    },
    {
      "cell_type": "code",
      "metadata": {
        "id": "WI29cDxJ_xmu",
        "colab_type": "code",
        "colab": {}
      },
      "source": [
        "trimCSV(1,2000,'edges')\n",
        "df=pd.read_csv('/content/gdrive/My Drive/intern_iitropar/Processed Data of Twitter/'+'edges.csv',names=['person','following'])\n",
        "con=sqlite3.connect('tempSql.sql')\n",
        "df.to_sql('Data',con)\n",
        "cur=con.cursor()\n",
        "del df\n",
        "gc.collect()\n",
        "for p in range(1,2001):\n",
        "  for f in range(p,2001):\n",
        "    cur.execute('SELECT COUNT(*) from Data WHERE person=? and following=? and EXISTS (SELECT * from Data WHERE person=? and following=?)',(p,f,f,p))\n",
        "    for x in cur:\n",
        "      if(x==(1,)):\n",
        "        cur.execute('DELETE from Data WHERE person=? and following=?',(f,p))\n",
        "      else:\n",
        "        cur.execute('DELETE from Data WHERE person=? and following=?',(p,f))\n",
        "    con.commit()\n",
        "query='SELECT * from Data '\n",
        "data=pd.read_sql(query,con)\n",
        "data.set_index('person',inplace=True)\n",
        "data.to_csv('processedData.csv',columns=['following'])\n",
        "cur.close()"
      ],
      "execution_count": 0,
      "outputs": []
    },
    {
      "cell_type": "code",
      "metadata": {
        "id": "nliZZqj9dZDr",
        "colab_type": "code",
        "colab": {}
      },
      "source": [
        "reqDataEndPoints=[200,400,600,800,1000,1200,1400,1600,1800,2000]\n",
        "for size in reqDataEndPoints:\n",
        "  df=pd.read_csv('/content/gdrive/My Drive/intern_iitropar/Processed Data of Twitter/processedData.csv')\n",
        "  con=sqlite3.connect(outputPath+'tempSQl'+str(size)+'.sql')\n",
        "  df.to_sql('Data',con)\n",
        "  cur=con.cursor()\n",
        "  cur.execute('DELETE from Data where person>? or following>? or person<? or following<?',(size,size,size-199,size-199))\n",
        "  con.commit()\n",
        "  del df\n",
        "  data=pd.read_sql('SELECT * from Data',con)\n",
        "  data.set_index('person',inplace=True)\n",
        "  data.to_csv(outputPath+'processedData'+str(size)+'.csv',columns=['following'])\n",
        "  del data\n",
        "  gc.collect()"
      ],
      "execution_count": 0,
      "outputs": []
    }
  ]
}