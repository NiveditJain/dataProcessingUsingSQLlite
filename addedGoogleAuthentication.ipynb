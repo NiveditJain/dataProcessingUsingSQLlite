{
  "nbformat": 4,
  "nbformat_minor": 0,
  "metadata": {
    "colab": {
      "name": "Copy of Copy of Untitled3.ipynb",
      "version": "0.3.2",
      "provenance": [],
      "include_colab_link": true
    },
    "kernelspec": {
      "name": "python3",
      "display_name": "Python 3"
    },
    "accelerator": "GPU"
  },
  "cells": [
    {
      "cell_type": "markdown",
      "metadata": {
        "id": "view-in-github",
        "colab_type": "text"
      },
      "source": [
        "<a href=\"https://colab.research.google.com/github/NiveditJain/dataProcessingUsingSQLlite/blob/master/addedGoogleAuthentication.ipynb\" target=\"_parent\"><img src=\"https://colab.research.google.com/assets/colab-badge.svg\" alt=\"Open In Colab\"/></a>"
      ]
    },
    {
      "cell_type": "code",
      "metadata": {
        "id": "W888PNYRJGs-",
        "colab_type": "code",
        "outputId": "bed4da4b-925a-4632-8474-7c424ea89e8a",
        "colab": {
          "base_uri": "https://localhost:8080/",
          "height": 34
        }
      },
      "source": [
        "import pandas as pd \n",
        "import sqlite3\n",
        "import os\n",
        "from google.colab import drive\n",
        "drive.mount('/content/gdrive')\n",
        "connTempSQL=sqlite3.connect('TempSQL.sql')\n",
        "df=pd.read_csv('/content/gdrive/My Drive/intern_iitropar/Twitter-dataset/data/edges.csv',names=['person','following'])\n",
        "df.to_sql('DataSetInput',connTempSQL)\n",
        "currTempSQL=connTempSQL.cursor()\n",
        "currTempSQL.execute('SELECT person,following from DataSetInput')\n",
        "tupples=[]\n",
        "for x in currTempSQL:\n",
        "\ttupples.append(x)\n",
        "connSQLOutput=sqlite3.connect('processedData.sql')\n",
        "currSQLOutput=connSQLOutput.cursor()\n",
        "currSQLOutput.execute('CREATE TABLE DataSet (person INTEGER, following INTEGER)')\n",
        "connSQLOutput.commit()\n",
        "for tupple in tupples:\n",
        "\tcurrTempSQL.execute('SELECT person,following from DataSetInput WHERE person=? and following=? and EXISTS (SELECT * from DataSetInput WHERE person=? and following=?)',(tupple[0],tupple[1],tupple[1],tupple[0]))\n",
        "\tfor y in currTempSQL:\n",
        "\t\tcurrSQLOutput.execute('INSERT INTO DataSet (person,following) VALUES (?,?)',y)\n",
        "\t\tconnSQLOutput.commit()\n",
        "connTempSQL.commit()\n",
        "currTempSQL.close()\n",
        "connTempSQL.close()\n",
        "query='SELECT * from DataSet'\n",
        "data=pd.read_sql(query,connSQLOutput)\n",
        "data.set_index('person',inplace=True)\n",
        "data.to_csv('processedData.csv',columns=['following'])\n",
        "currSQLOutput.close()\n",
        "connSQLOutput.commit()\n",
        "connSQLOutput.close()\n",
        "files.download('processedData.sql')\n",
        "files.download('processedData.csv')"
      ],
      "execution_count": 0,
      "outputs": [
        {
          "output_type": "stream",
          "text": [
            "Drive already mounted at /content/gdrive; to attempt to forcibly remount, call drive.mount(\"/content/gdrive\", force_remount=True).\n"
          ],
          "name": "stdout"
        }
      ]
    }
  ]
}